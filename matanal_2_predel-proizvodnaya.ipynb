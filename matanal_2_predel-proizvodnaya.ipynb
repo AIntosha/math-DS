{
 "cells": [
  {
   "cell_type": "code",
   "execution_count": 11,
   "metadata": {},
   "outputs": [],
   "source": [
    "import warnings\n",
    "warnings.filterwarnings(\"ignore\")\n",
    "import matplotlib.pyplot as plt\n",
    "%matplotlib inline\n",
    "import numpy as np\n",
    "from IPython.display import Image\n",
    "from IPython.core.display import HTML "
   ]
  },
  {
   "cell_type": "markdown",
   "metadata": {},
   "source": [
    "Рассмотрим пример:  \n",
    "$f(x) = (1+x)^\\frac{1}{x}$  \n",
    "D(f) = R \\ {1}  \n",
    "Один подставлять нельзя потому что на ноль делить нельзя, но попробуем приближать значение к нулю и смотреть к чему будет стримиться при это E(f)"
   ]
  },
  {
   "cell_type": "code",
   "execution_count": 6,
   "metadata": {},
   "outputs": [
    {
     "name": "stdout",
     "output_type": "stream",
     "text": [
      "При Х = 0.1 \tфункция = 2.5937424601000023\n",
      "При Х = 0.01 \tфункция = 2.7048138294215285\n",
      "При Х = 0.001 \tфункция = 2.7169239322355936\n",
      "При Х = 0.0001 \tфункция = 2.7181459268249255\n",
      "При Х = 1e-05 \tфункция = 2.718268237192297\n",
      "При Х = 1e-06 \tфункция = 2.7182804690957534\n",
      "При Х = 1e-07 \tфункция = 2.7182816941320818\n",
      "При Х = 1e-08 \tфункция = 2.7182817983473577\n",
      "При Х = 1e-09 \tфункция = 2.71828205201156\n",
      "При Х = 1e-10 \tфункция = 2.7182820532347876\n"
     ]
    }
   ],
   "source": [
    "# f = (1+x)**(1/x)\n",
    "\n",
    "nums = [0.1, 0.01, 0.001, 0.0001, 0.00001, 0.000001, 0.0000001, 0.00000001, 0.000000001, 0.0000000001]\n",
    "for x in nums:\n",
    "    print('При Х =', x, '\\tфункция =', (1+x)**(1/x))"
   ]
  },
  {
   "cell_type": "markdown",
   "metadata": {},
   "source": [
    "при приближении X к нулю функция стремится к 2.7182... => это число $e$  \n",
    "можем записать:   \n",
    "$f(x) = (1+x)^\\frac{1}{x}$  \n",
    "$\\lim_{x \\to 0}(1+x)^\\frac{1}{x}=2.7182...$"
   ]
  },
  {
   "cell_type": "markdown",
   "metadata": {},
   "source": [
    "Рассмотрим другую функцию $\\frac{1}{x}$"
   ]
  },
  {
   "cell_type": "code",
   "execution_count": 7,
   "metadata": {
    "scrolled": true
   },
   "outputs": [
    {
     "name": "stdout",
     "output_type": "stream",
     "text": [
      "При Х = 0.1 \tфункция = 10.0\n",
      "При Х = 0.01 \tфункция = 100.0\n",
      "При Х = 0.001 \tфункция = 1000.0\n",
      "При Х = 0.0001 \tфункция = 10000.0\n",
      "При Х = 1e-05 \tфункция = 99999.99999999999\n",
      "При Х = 1e-06 \tфункция = 1000000.0\n",
      "При Х = 1e-07 \tфункция = 10000000.0\n",
      "При Х = 1e-08 \tфункция = 100000000.0\n",
      "При Х = 1e-09 \tфункция = 999999999.9999999\n",
      "При Х = 1e-10 \tфункция = 10000000000.0\n"
     ]
    }
   ],
   "source": [
    "for x in nums:\n",
    "    print('При Х =', x, '\\tфункция =', 1/x)"
   ]
  },
  {
   "cell_type": "markdown",
   "metadata": {},
   "source": [
    "Функция $\\frac{1}{x}$ при приближении Х к нулю неограниченно растет => $+\\infty$  \n",
    "  \n",
    "$\\lim_{x \\to 0}(\\frac{1}{x})=\\infty $"
   ]
  },
  {
   "cell_type": "markdown",
   "metadata": {},
   "source": [
    "### Непрерывность и предел\n",
    "f(x) непрерывна в точке x = a:  \n",
    "$$\\lim_{x\\to a}f(x) = f(\\lim_{x\\to a}x) = f(a)$$  \n",
    "\n",
    "(Если знак функции можно вынести за знак предела)\n",
    "\n",
    "Последовательность:  \n",
    "* Подставляем вместо Х -> a\n",
    "* Находим чему не равно а\n",
    "* Подставляем это значение точки в изнчальный предел и смотрим стремится ли к бесконечности, если да, то это разрыв\n",
    "\n",
    "Пример:  \n",
    "  \n",
    "$\\lim_{x\\to a}(\\frac{1}{x-1})$ \n",
    "1. Подставляем вместо х -> а  \n",
    "$\\lim_{x\\to a}(\\frac{1}{x-1}) = \\frac{1}{a-1}, a\\ne 1$\n",
    "2. Видим, что а не может быть равно нулю, значит в точке а у нас разрыв\n",
    "3. Можем проверить  \n",
    "$\\lim_{x\\to 1}(\\frac{1}{x-1}) = \\infty$\n",
    "4. Если в этой точке у нас предел равен бесконечности, значит это разрыв  \n",
    "---\n",
    "Если упростить, при тех значениях, где знаменатель будет равен нулю, там точки разрыва"
   ]
  },
  {
   "cell_type": "markdown",
   "metadata": {},
   "source": [
    "# Производная  \n",
    "Возмьмем функцию у = f(x) = x\n",
    "Где значению х будет равно значение у"
   ]
  },
  {
   "cell_type": "code",
   "execution_count": 8,
   "metadata": {},
   "outputs": [
    {
     "data": {
      "image/png": "[encoded data removed]",
      "text/plain": [
       "<Figure size 432x288 with 1 Axes>"
      ]
     },
     "metadata": {
      "needs_background": "light"
     },
     "output_type": "display_data"
    }
   ],
   "source": [
    "x = np.arange(-10,10)\n",
    "y = x\n",
    "\n",
    "def graph(x,y):\n",
    "    plt.plot(x, y)\n",
    "    plt.xlabel('X')\n",
    "    plt.ylabel('f(x)')\n",
    "    plt.grid(True)\n",
    "    plt.show()\n",
    "    \n",
    "graph(x,y)"
   ]
  },
  {
   "cell_type": "markdown",
   "metadata": {},
   "source": [
    "Для изменения угла наклона мы можем умножать X на любое число  \n",
    "При y = x , наш угол будет 45 градусов  \n",
    "Если уменьшать х (y = x * 3), угол будет становиться более острым  \n",
    "Если увеличивать x (y = x / 3), угол будет становиться более тупым"
   ]
  },
  {
   "cell_type": "code",
   "execution_count": 9,
   "metadata": {},
   "outputs": [
    {
     "data": {
      "image/png": "[encoded data removed]",
      "text/plain": [
       "<Figure size 1080x360 with 3 Axes>"
      ]
     },
     "metadata": {
      "needs_background": "light"
     },
     "output_type": "display_data"
    }
   ],
   "source": [
    "x = np.arange(0,5)\n",
    "\n",
    "y1 = (1/3)*x\n",
    "y2 = x\n",
    "y3 = 3*x\n",
    "\n",
    "plt.subplot(1,3,1)\n",
    "plt.title('y = x \\ 3')\n",
    "plt.plot(x,y1, 'r')\n",
    "plt.plot(np.arange(-1,5), np.arange(-1,5)*0, 'k')\n",
    "plt.plot(np.arange(-1,5)*0, np.arange(-1,5), 'k')\n",
    "\n",
    "plt.subplot(1,3,2)\n",
    "plt.title('y = x')\n",
    "plt.plot(x,y2,'r')\n",
    "plt.plot(np.arange(-1,5), np.arange(-1,5)*0, 'k')\n",
    "plt.plot(np.arange(-1,5)*0, np.arange(-1,5), 'k')\n",
    "\n",
    "plt.subplot(1,3,3)\n",
    "plt.title('y = x * 3')\n",
    "plt.plot(np.arange(0,3),np.arange(0,3)*3, 'r')\n",
    "plt.plot(np.arange(-1,5), np.arange(-1,5)*0, 'k')\n",
    "plt.plot(np.arange(-1,5)*0, np.arange(-1,5), 'k')\n",
    "\n",
    "plt.show\n",
    "fig = plt.gcf()\n",
    "fig.set_size_inches(15, 5)"
   ]
  },
  {
   "cell_type": "markdown",
   "metadata": {},
   "source": [
    "Так же мы можем сдвигать нашу функцию относительно начальной точки (0,0), для этого прибавляем к функции любое число  \n",
    "например рассмотрим  \n",
    "$y = x * 3$  \n",
    "$y = x * 3 + 2$"
   ]
  },
  {
   "cell_type": "code",
   "execution_count": 10,
   "metadata": {},
   "outputs": [
    {
     "data": {
      "image/png": "[encoded data removed]",
      "text/plain": [
       "<Figure size 720x360 with 1 Axes>"
      ]
     },
     "metadata": {
      "needs_background": "light"
     },
     "output_type": "display_data"
    }
   ],
   "source": [
    "fig = plt.figure()\n",
    "ax1 = fig.add_axes([0.1, 0.1, 0.4, 0.7])\n",
    "\n",
    "x = np.arange(0,3)\n",
    "y1 = np.arange(0,3)*3\n",
    "y2 = np.arange(0,3)*3+2\n",
    "l1, l2 = ax1.plot(x, y1, 'r', x, y2, 'g')\n",
    "\n",
    "plt.plot(np.arange(-1,4), np.arange(-1,4)*0, 'k')\n",
    "plt.plot(np.arange(-1,9)*0, np.arange(-1,9), 'k')\n",
    "\n",
    "fig.legend((l1, l2), ('y = x * 3', 'y = x * 3 + 2'), 'upper center')\n",
    "fig = plt.gcf()\n",
    "fig.set_size_inches(10, 5)\n",
    "plt.show()"
   ]
  },
  {
   "cell_type": "markdown",
   "metadata": {},
   "source": [
    "Такие функции называются линейными, они всегда прямые (линейные=линии же, ну)  \n",
    "и в общем виде записываются как  \n",
    "$f = kx + b$   \n",
    "либо  \n",
    "$y = kx + b$"
   ]
  },
  {
   "cell_type": "markdown",
   "metadata": {},
   "source": [
    "Если мы будем менять наш Х, допустим увеличим его в пять раз, тогда наш У тоже изменится в 5 раз  \n",
    "$y = k*x + b$ ->  \n",
    "$x*5$ ->  \n",
    "$y * 5 = k*x*5$ ->  \n",
    "  \n",
    "$\\Delta y = k* \\Delta x$\n",
    "\n",
    "константу $b$ никто не уважает, поэтому ее даже не берут в рассчет, ведь она задает только начальную точку, но не меняет функцию"
   ]
  },
  {
   "cell_type": "markdown",
   "metadata": {},
   "source": [
    "Получается величина $k$ - это скорость роста функции  \n",
    "$\\Delta y = k* \\Delta x$  \n",
    "  \n",
    "$k = \\frac{\\Delta y}{\\Delta x}$  \n",
    "  \n",
    "где $\\Delta y$ - это то насколько изменилась наша функция, отнимаем конечную $f(x+\\Delta x)$ от начальной $f(x)$  \n",
    "  \n",
    "$k = \\frac{f(x + \\Delta x) - f(x)}{\\Delta x}$"
   ]
  },
  {
   "cell_type": "markdown",
   "metadata": {},
   "source": [
    "У линейной функции угол наклона функции всегда постоянный и величина $k$ тоже постоянная.  \n",
    "Если же мы рассматриваем рандомную функцию, у нее все будет не так красиво. Функция будет вихлять в разные стороны. И величину $k$ тоже будет не уловить.  \n",
    "Поэтому мы можем воспользоваться пределами, чтобы зафиксировать какой-то кусочек функции (очень маленький) и взять предел в этой точке, где $\\Delta x$ будет стремиться к нулю.  \n",
    "По сути, это и будет производная.\n",
    "![url](https://emoji.slack-edge.com/T040HKJE3/magic/ade7177aca293cf9.gif)"
   ]
  },
  {
   "cell_type": "markdown",
   "metadata": {},
   "source": [
    "$$f'(x) = \\lim_{\\Delta x \\to 0}\\frac{f(x+\\Delta x)-f(x)}{\\Delta x}$$"
   ]
  },
  {
   "cell_type": "markdown",
   "metadata": {},
   "source": [
    "Производные могут обозначаться разными способами ->  \n",
    "$f'(x) = y' = \\frac{\\delta y}{\\delta x}$"
   ]
  },
  {
   "cell_type": "markdown",
   "metadata": {},
   "source": [
    "Давайте посчитаем производную функции $y(x)$, если $y = -\\frac{2}{3}x-\\frac{11}{3}$  \n",
    "Сначала сделаем как школяры - просто расчехлим таблицу производных и увидим что по формулам тут изи получается $-\\frac{2}{3}$  \n",
    "Но это путь слабака. Мы сейчас распишем все, используя полученные нами в этом уроке знания."
   ]
  },
  {
   "cell_type": "markdown",
   "metadata": {},
   "source": [
    "Для начала распишем последовательность действий для нахождения производной:  \n",
    "  \n",
    "1 Заменяем все ($x$) на $(x + \\Delta x)$  \n",
    "$y + \\Delta y = f(x + \\Delta x)$  \n",
    "  \n",
    "2 Выводим отсюда $\\Delta y$  \n",
    "$\\Delta y = f(x + \\Delta x) - f(x) $  \n",
    "  \n",
    "3 Делим все это безобразие на $\\Delta x$, чтобы получить отношение $\\Delta y$ и $\\Delta x$  \n",
    "$\\frac{\\Delta y}{\\Delta x} = \\frac{f(x+ \\Delta x) - f(x)}{\\Delta x}$  \n",
    "  \n",
    "4 И наконец берем предел $\\Delta x \\to 0$, то есть просто подставляем вместо $\\Delta x$ ноль  \n",
    "$f'(x) = \\lim_{\\Delta x \\to 0}\\frac{f(x+\\Delta x)-f(x)}{\\Delta x}$"
   ]
  },
  {
   "cell_type": "markdown",
   "metadata": {},
   "source": [
    "---  \n",
    "Решаем наш пример $y'$, если $y = -\\frac{2}{3}x-\\frac{11}{3}$  "
   ]
  },
  {
   "cell_type": "markdown",
   "metadata": {},
   "source": [
    "1 Заменяем $-\\frac{2}{3}x-\\frac{11}{3}$  на $-\\frac{2}{3}(x+\\Delta x)-\\frac{11}{3}$  \n",
    "  \n",
    "2 Пишем $\\Delta y$, при этом $f(x)$ остается прежним    \n",
    "$\\Delta y = -\\frac{2}{3}(x+\\Delta x)-\\frac{11}{3}-(-\\frac{2}{3}x-\\frac{11}{3})$  \n",
    "  \n",
    "3 Делим все на $\\Delta x$  \n",
    "$\\frac{\\Delta y}{\\Delta x} = \\frac{-\\frac{2}{3}(x+\\Delta x)-\\frac{11}{3}-(-\\frac{2}{3}x-\\frac{11}{3})}{\\Delta x}$  \n",
    "  \n",
    "сократим, раскрыв скобки  \n",
    "$\\frac{\\Delta y}{\\Delta x} = \\frac{-\\frac{2}{3}x -\\frac{2}{3}\\Delta x -\\frac{11}{3}+\\frac{2}{3}x+\\frac{11}{3}}{\\Delta x} =\\frac{-\\frac{2}{3}\\Delta x}{\\Delta x} = -\\frac{2}{3}$  \n",
    "  \n",
    "4 пункт нам даже не понадобился, так как наш $\\Delta x$ и так сократился  \n",
    "$y' = -\\frac{2}{3}$  \n",
    "...  \n",
    "Вы восхитительны"
   ]
  },
  {
   "cell_type": "markdown",
   "metadata": {},
   "source": [
    "#### Гладкие функции\n",
    "Гладкими они называются когда у них есть непрерывная производная"
   ]
  },
  {
   "cell_type": "code",
   "execution_count": 13,
   "metadata": {},
   "outputs": [
    {
     "data": {
      "text/html": [
       "<img src=\"https://i.imgur.com/HtS2zHO.jpg\" width=\"500\" height=\"400\"/>"
      ],
      "text/plain": [
       "<IPython.core.display.Image object>"
      ]
     },
     "execution_count": 13,
     "metadata": {},
     "output_type": "execute_result"
    }
   ],
   "source": [
    "Image(url= \"https://i.imgur.com/HtS2zHO.jpg\", width=500, height=400)"
   ]
  }
 ],
 "metadata": {
  "kernelspec": {
   "display_name": "Python 3",
   "language": "python",
   "name": "python3"
  },
  "language_info": {
   "codemirror_mode": {
    "name": "ipython",
    "version": 3
   },
   "file_extension": ".py",
   "mimetype": "text/x-python",
   "name": "python",
   "nbconvert_exporter": "python",
   "pygments_lexer": "ipython3",
   "version": "3.7.6"
  }
 },
 "nbformat": 4,
 "nbformat_minor": 4
}
